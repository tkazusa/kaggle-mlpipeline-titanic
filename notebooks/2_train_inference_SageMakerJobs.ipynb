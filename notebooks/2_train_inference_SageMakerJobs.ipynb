{
 "cells": [
  {
   "cell_type": "code",
   "execution_count": null,
   "id": "fresh-range",
   "metadata": {},
   "outputs": [],
   "source": [
    "import pandas as pd\n",
    "\n",
    "import sagemaker\n",
    "from sagemaker import get_execution_role\n",
    "from sagemaker.processing import ScriptProcessor, ProcessingInput, ProcessingOutput\n",
    "\n",
    "# Get a SageMaker-compatible role used by this Notebook Instance.\n",
    "role = get_execution_role()"
   ]
  },
  {
   "cell_type": "code",
   "execution_count": null,
   "id": "boolean-generator",
   "metadata": {},
   "outputs": [],
   "source": [
    "sagemaker_session = sagemaker.Session()\n",
    "input_train = sagemaker_session.upload_data(path='./data/train.csv', key_prefix='kaggle-ml-pipeline/data')\n",
    "input_test = sagemaker_session.upload_data(path='./data/test.csv', key_prefix='kaggle-ml-pipeline/data')"
   ]
  },
  {
   "cell_type": "code",
   "execution_count": null,
   "id": "young-restoration",
   "metadata": {},
   "outputs": [],
   "source": [
    "!cat ./scripts/preprocess/Dockerfile"
   ]
  },
  {
   "cell_type": "code",
   "execution_count": null,
   "id": "located-nitrogen",
   "metadata": {},
   "outputs": [],
   "source": [
    "!docker build -t sagemaker-kaggle-titanic-preprocess ./scripts/preprocess"
   ]
  },
  {
   "cell_type": "code",
   "execution_count": null,
   "id": "enclosed-comfort",
   "metadata": {},
   "outputs": [],
   "source": [
    "import boto3\n",
    "\n",
    "# boto3の機能を使ってリポジトリ名に必要な情報を取得する\n",
    "account_id = boto3.client('sts').get_caller_identity().get('Account')\n",
    "region = boto3.session.Session().region_name\n",
    "tag = ':latest'\n",
    "\n",
    "# SageMakerFullAccess を使っているから repository 名の中に sagemaker が含まれている必要がある\n",
    "ecr_repository = f'sagemaker-kaggle-titanic-preprocess'\n",
    "image_uri = f'{account_id}.dkr.ecr.{region}.amazonaws.com/{ecr_repository+tag}'\n",
    "\n",
    "!$(aws ecr get-login --region $region --registry-ids $account_id --no-include-email)\n",
    " \n",
    "# リポジトリの作成\n",
    "# すでにある場合はこのコマンドは必要ない\n",
    "!aws ecr create-repository --repository-name $ecr_repository\n",
    " \n",
    "!docker build -t {ecr_repository} .\n",
    "!docker tag {ecr_repository + tag} $image_uri\n",
    "!docker push $image_uri\n",
    "\n",
    "print(f'コンテナは {image_uri} へ登録されています。')"
   ]
  },
  {
   "cell_type": "code",
   "execution_count": null,
   "id": "choice-agreement",
   "metadata": {},
   "outputs": [],
   "source": [
    "job_name = f'sagemaker-kaggle-preprocessing-train'\n",
    "output_s3_path = 's3://' + sagemaker_session.default_bucket() + '/kaggle-ml-pipeline'\n",
    "\n",
    "processing_input_dir = '/opt/ml/processing/input'\n",
    "processing_output_dir = '/opt/ml/processing/output'\n",
    "\n",
    "output_s3_path_preprocess = output_s3_path + '/preprocessed'"
   ]
  },
  {
   "cell_type": "code",
   "execution_count": null,
   "id": "north-relay",
   "metadata": {},
   "outputs": [],
   "source": [
    "processor = ScriptProcessor(base_job_name=job_name,\n",
    "                                   image_uri=image_uri,\n",
    "                                   command=['python3'],\n",
    "                                   role=role,\n",
    "                                   instance_count=1,\n",
    "                                   instance_type='ml.c5.xlarge'\n",
    "                                  )"
   ]
  },
  {
   "cell_type": "code",
   "execution_count": null,
   "id": "pleasant-toolbox",
   "metadata": {},
   "outputs": [],
   "source": [
    "processor.run(code='./scripts/preprocess/preprocess_script/preprocess.py', # S3 の URI でも可\n",
    "              inputs=[ProcessingInput(source=input_train, destination=processing_input_dir)],\n",
    "              outputs=[ProcessingOutput(source=processing_output_dir, destination=output_s3_path_preprocess)],\n",
    "              arguments=[\n",
    "                  '--data_type', 'train',\n",
    "                  '--input_dir',processing_input_dir,\n",
    "                  '--output_dir',processing_output_dir\n",
    "                      ]\n",
    "                    )"
   ]
  },
  {
   "cell_type": "markdown",
   "id": "talented-insert",
   "metadata": {},
   "source": [
    "## 学習"
   ]
  },
  {
   "cell_type": "code",
   "execution_count": null,
   "id": "lightweight-diagnosis",
   "metadata": {},
   "outputs": [],
   "source": [
    "from sagemaker.sklearn.estimator import SKLearn\n",
    "\n",
    "output_s3_path_train = output_s3_path + '/train'\n",
    "\n",
    "sklearn = SKLearn(\n",
    "    entry_point='scripts/train/train.py',\n",
    "    framework_version=\"0.23-1\",\n",
    "    train_instance_type=\"ml.m5.xlarge\",\n",
    "    #train_instance_type=\"local\",\n",
    "    output_path=output_s3_path_train,\n",
    "    role=role)"
   ]
  },
  {
   "cell_type": "code",
   "execution_count": null,
   "id": "celtic-superior",
   "metadata": {},
   "outputs": [],
   "source": [
    "train_input = output_s3_path_preprocess + '/train.csv'\n",
    "sklearn.fit({'train': train_input})"
   ]
  },
  {
   "cell_type": "markdown",
   "id": "divine-protest",
   "metadata": {},
   "source": [
    "### 推論"
   ]
  },
  {
   "cell_type": "code",
   "execution_count": null,
   "id": "heated-alloy",
   "metadata": {},
   "outputs": [],
   "source": [
    "job_name = f'sagemaker-kaggle-preprocessing-test'\n",
    "\n",
    "processor = ScriptProcessor(base_job_name=job_name,\n",
    "                                   image_uri=image_uri,\n",
    "                                   command=['python3'],\n",
    "                                   role=role,\n",
    "                                   instance_count=1,\n",
    "                                   instance_type='ml.c5.xlarge'\n",
    "                                  )\n",
    "\n",
    "\n",
    "\n",
    "processor.run(code='./scripts/preprocess/preprocess_script/preprocess.py', # S3 の URI でも可\n",
    "              inputs=[ProcessingInput(source=input_test, destination=processing_input_dir)],\n",
    "              outputs=[ProcessingOutput(source=processing_output_dir, destination=output_s3_path_preprocess)],\n",
    "              arguments=[\n",
    "                  '--data_type', 'test',\n",
    "                  '--input_dir',processing_input_dir,\n",
    "                  '--output_dir',processing_output_dir\n",
    "                      ]\n",
    "                    )"
   ]
  },
  {
   "cell_type": "code",
   "execution_count": null,
   "id": "declared-throw",
   "metadata": {},
   "outputs": [],
   "source": [
    "output_s3_path_inference = output_s3_path + '/batch_inference'\n",
    "\n",
    "transformer = sklearn.transformer(instance_count=1,\n",
    "                                  instance_type='ml.m5.xlarge',\n",
    "                                  output_path=output_s3_path_inference)"
   ]
  },
  {
   "cell_type": "code",
   "execution_count": null,
   "id": "technical-mouth",
   "metadata": {},
   "outputs": [],
   "source": [
    "test_input = output_s3_path_preprocess + '/test.csv'\n",
    "\n",
    "transformer.transform(\n",
    "    data=test_input,\n",
    "    content_type='text/csv')\n",
    "\n",
    "print('Waiting for transform job: ' + transformer.latest_transform_job.job_name)\n",
    "\n",
    "transformer.wait()"
   ]
  },
  {
   "cell_type": "code",
   "execution_count": null,
   "id": "upper-police",
   "metadata": {},
   "outputs": [],
   "source": []
  },
  {
   "cell_type": "code",
   "execution_count": null,
   "id": "refined-election",
   "metadata": {},
   "outputs": [],
   "source": []
  },
  {
   "cell_type": "code",
   "execution_count": null,
   "id": "fleet-controversy",
   "metadata": {},
   "outputs": [],
   "source": []
  }
 ],
 "metadata": {
  "kernelspec": {
   "display_name": "conda_python3",
   "language": "python",
   "name": "conda_python3"
  },
  "language_info": {
   "codemirror_mode": {
    "name": "ipython",
    "version": 3
   },
   "file_extension": ".py",
   "mimetype": "text/x-python",
   "name": "python",
   "nbconvert_exporter": "python",
   "pygments_lexer": "ipython3",
   "version": "3.6.10"
  }
 },
 "nbformat": 4,
 "nbformat_minor": 5
}
