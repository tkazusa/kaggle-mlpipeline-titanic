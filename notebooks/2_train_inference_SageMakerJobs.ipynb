{
 "cells": [
  {
   "cell_type": "code",
   "execution_count": null,
   "id": "minus-scoop",
   "metadata": {},
   "outputs": [],
   "source": [
    "import pandas as pd\n",
    "\n",
    "import sagemaker\n",
    "from sagemaker import get_execution_role\n",
    "from sagemaker.processing import ScriptProcessor, ProcessingInput, ProcessingOutput\n",
    "\n",
    "# S3 prefix\n",
    "prefix = 'Scikit-iris'\n",
    "\n",
    "# Get a SageMaker-compatible role used by this Notebook Instance.\n",
    "role = get_execution_role()"
   ]
  },
  {
   "cell_type": "code",
   "execution_count": null,
   "id": "northern-syndicate",
   "metadata": {},
   "outputs": [],
   "source": [
    "sagemaker_session = sagemaker.Session()\n",
    "input_train = sagemaker_session.upload_data(path='./data/train.csv', key_prefix='kaggle-ml-pipeline/data')\n",
    "input_test = sagemaker_session.upload_data(path='./data/test.csv', key_prefix='kaggle-ml-pipeline/data')"
   ]
  },
  {
   "cell_type": "code",
   "execution_count": null,
   "id": "embedded-declaration",
   "metadata": {},
   "outputs": [],
   "source": [
    "input_train"
   ]
  },
  {
   "cell_type": "code",
   "execution_count": null,
   "id": "rough-portfolio",
   "metadata": {},
   "outputs": [],
   "source": [
    "!cat ./scripts/preprocess/Dockerfile"
   ]
  },
  {
   "cell_type": "code",
   "execution_count": null,
   "id": "correct-taiwan",
   "metadata": {},
   "outputs": [],
   "source": [
    "!docker build -t sagemaker-kaggle-titanic-preprocess ./scripts/preprocess"
   ]
  },
  {
   "cell_type": "code",
   "execution_count": null,
   "id": "charged-injury",
   "metadata": {},
   "outputs": [],
   "source": [
    "import boto3\n",
    "\n",
    "# boto3の機能を使ってリポジトリ名に必要な情報を取得する\n",
    "account_id = boto3.client('sts').get_caller_identity().get('Account')\n",
    "region = boto3.session.Session().region_name\n",
    "tag = ':latest'\n",
    "\n",
    "# SageMakerFullAccess を使っているから repository 名の中に sagemaker が含まれている必要がある\n",
    "ecr_repository = f'sagemaker-kaggle-titanic-preprocess'\n",
    "image_uri = f'{account_id}.dkr.ecr.{region}.amazonaws.com/{ecr_repository+tag}'\n",
    "\n",
    "!$(aws ecr get-login --region $region --registry-ids $account_id --no-include-email)\n",
    " \n",
    "# リポジトリの作成\n",
    "# すでにある場合はこのコマンドは必要ない\n",
    "!aws ecr create-repository --repository-name $ecr_repository\n",
    " \n",
    "!docker build -t {ecr_repository} .\n",
    "!docker tag {ecr_repository + tag} $image_uri\n",
    "!docker push $image_uri\n",
    "\n",
    "print(f'コンテナは {image_uri} へ登録されています。')"
   ]
  },
  {
   "cell_type": "code",
   "execution_count": null,
   "id": "interested-contents",
   "metadata": {},
   "outputs": [],
   "source": [
    "image_uri == '815969174475.dkr.ecr.ap-northeast-1.amazonaws.com/sagemaker-kaggle-titanic-preprocess'"
   ]
  },
  {
   "cell_type": "code",
   "execution_count": null,
   "id": "adapted-contemporary",
   "metadata": {},
   "outputs": [],
   "source": [
    "image_uri"
   ]
  },
  {
   "cell_type": "code",
   "execution_count": null,
   "id": "identical-sensitivity",
   "metadata": {},
   "outputs": [],
   "source": [
    "processing_input_dir = '/opt/ml/processing/input'\n",
    "processing_output_dir = '/opt/ml/processing/output'\n",
    "job_name = f'sagemaker-kaggle-preprocessing-train'\n",
    "\n",
    "output_s3_path = 's3://' + sagemaker_session.default_bucket() + '/kaggle-ml-pipeline/preprocessed'"
   ]
  },
  {
   "cell_type": "code",
   "execution_count": null,
   "id": "twenty-moisture",
   "metadata": {},
   "outputs": [],
   "source": [
    "output_s3_path"
   ]
  },
  {
   "cell_type": "code",
   "execution_count": null,
   "id": "blank-missile",
   "metadata": {},
   "outputs": [],
   "source": [
    "processor = ScriptProcessor(base_job_name=job_name,\n",
    "                                   image_uri=image_uri,\n",
    "                                   command=['python3'],\n",
    "                                   role=role,\n",
    "                                   instance_count=1,\n",
    "                                   instance_type='ml.c5.xlarge'\n",
    "                                  )"
   ]
  },
  {
   "cell_type": "code",
   "execution_count": null,
   "id": "breeding-stock",
   "metadata": {},
   "outputs": [],
   "source": [
    "processor.run(code='./scripts/preprocess/preprocess_script/preprocess.py', # S3 の URI でも可\n",
    "              inputs=[ProcessingInput(source=input_train, destination=processing_input_dir)],\n",
    "              outputs=[ProcessingOutput(source=processing_output_dir, destination=output_s3_path)],\n",
    "              arguments=[\n",
    "                  '--data_type', 'train',\n",
    "                  '--input_dir',processing_input_dir,\n",
    "                  '--output_dir',processing_output_dir\n",
    "                      ]\n",
    "                    )"
   ]
  },
  {
   "cell_type": "markdown",
   "id": "boxed-footage",
   "metadata": {},
   "source": [
    "## 学習"
   ]
  },
  {
   "cell_type": "code",
   "execution_count": null,
   "id": "wireless-worst",
   "metadata": {},
   "outputs": [],
   "source": [
    "from sagemaker.sklearn.estimator import SKLearn\n",
    "\n",
    "sklearn = SKLearn(\n",
    "    entry_point='scripts/train/train.py',\n",
    "    framework_version='0.20.0',\n",
    "    instance_type=\"ml.m5.xlarge\",\n",
    "    role=role)"
   ]
  },
  {
   "cell_type": "code",
   "execution_count": null,
   "id": "blank-regulation",
   "metadata": {},
   "outputs": [],
   "source": [
    "train_input = output_s3_path + '/train.csv'\n",
    "sklearn.fit({'train': train_input})"
   ]
  },
  {
   "cell_type": "markdown",
   "id": "numeric-gabriel",
   "metadata": {},
   "source": [
    "### 推論"
   ]
  },
  {
   "cell_type": "code",
   "execution_count": null,
   "id": "outer-weight",
   "metadata": {},
   "outputs": [],
   "source": [
    "processor.run(code='./scripts/preprocess/preprocess_script/preprocess.py', # S3 の URI でも可\n",
    "              inputs=[ProcessingInput(source=input_test, destination=processing_input_dir)],\n",
    "              outputs=[ProcessingOutput(source=processing_output_dir, destination=output_s3_path)],\n",
    "              arguments=[\n",
    "                  '--data_type', 'test',\n",
    "                  '--input_dir',processing_input_dir,\n",
    "                  '--output_dir',processing_output_dir\n",
    "                      ]\n",
    "                    )"
   ]
  },
  {
   "cell_type": "code",
   "execution_count": null,
   "id": "saving-recycling",
   "metadata": {},
   "outputs": [],
   "source": [
    "transformer = sklearn.transformer(instance_count=1, instance_type='ml.m5.xlarge')"
   ]
  },
  {
   "cell_type": "code",
   "execution_count": null,
   "id": "above-alfred",
   "metadata": {},
   "outputs": [],
   "source": [
    "# Start a transform job and wait for it to finish\n",
    "transformer.transform(batch_input_s3, content_type='text/csv')\n",
    "print('Waiting for transform job: ' + transformer.latest_transform_job.job_name)\n",
    "transformer.wait()"
   ]
  }
 ],
 "metadata": {
  "kernelspec": {
   "display_name": "conda_python3",
   "language": "python",
   "name": "conda_python3"
  },
  "language_info": {
   "codemirror_mode": {
    "name": "ipython",
    "version": 3
   },
   "file_extension": ".py",
   "mimetype": "text/x-python",
   "name": "python",
   "nbconvert_exporter": "python",
   "pygments_lexer": "ipython3",
   "version": "3.6.10"
  }
 },
 "nbformat": 4,
 "nbformat_minor": 5
}
