{
 "cells": [
  {
   "cell_type": "code",
   "execution_count": null,
   "id": "sustainable-indication",
   "metadata": {},
   "outputs": [],
   "source": [
    "import pandas as pd\n",
    "import re\n",
    "import joblib\n",
    "\n",
    "from sklearn.ensemble import RandomForestClassifier\n",
    "from sklearn import preprocessing"
   ]
  },
  {
   "cell_type": "code",
   "execution_count": null,
   "id": "geographic-preference",
   "metadata": {},
   "outputs": [],
   "source": [
    "train = pd.read_csv(\"./data/train.csv\")\n",
    "test = pd.read_csv(\"./data/test.csv\")\n",
    "\n",
    "train['data_type'] = \"train\"\n",
    "test['data_type'] = \"test\"\n",
    "test['Survived'] = \"test\"\n",
    "\n",
    "data = pd.concat([train, test], axis=0)\n",
    "data = data.drop(['Cabin'], axis=1)\n",
    "data = data.dropna(how=\"any\")"
   ]
  },
  {
   "cell_type": "code",
   "execution_count": null,
   "id": "incorporated-ozone",
   "metadata": {},
   "outputs": [],
   "source": [
    "def deriveTitles(name: str) -> str:\n",
    "    \"\"\" name に含まれるタイトルをそれぞれのカテゴリに変換\n",
    "    Args:\n",
    "        name (str): 登場者の名前\n",
    "    Returns:\n",
    "        名前から抽出されたタイトルに従って変換されたカテゴリ (int)\n",
    "    \"\"\"\n",
    "    title = re.search('(?:\\S )(?P<title>\\w*)', name).group('title')\n",
    "    \n",
    "    if title == \"Mr\":             return \"adult\"\n",
    "    elif title == \"Don\":          return \"gentry\"\n",
    "    elif title == \"Dona\":         return \"gentry\"\n",
    "    elif title == \"Miss\":         return \"miss\"\n",
    "    elif title == \"Col\":          return \"military\"\n",
    "    elif title == \"Rev\":          return \"other\"\n",
    "    elif title == \"Lady\":         return \"gentry\"\n",
    "    elif title == \"Master\":       return \"child\"\n",
    "    elif title == \"Mme\":          return \"adult\"\n",
    "    elif title == \"Captain\":      return \"military\"\n",
    "    elif title == \"Dr\":           return \"other\"\n",
    "    elif title == \"Mrs\":          return \"adult\"\n",
    "    elif title == \"Sir\":          return \"gentry\"\n",
    "    elif title == \"Jonkheer\":     return \"gentry\"\n",
    "    elif title == \"Mlle\":         return \"miss\"\n",
    "    elif title == \"Major\":        return \"military\"\n",
    "    elif title == \"Ms\":           return \"miss\"\n",
    "    elif title == \"the Countess\": return \"gentry\"\n",
    "    else:                         return \"other\"\n",
    "    \n",
    "data[\"title\"] = data.Name.apply(deriveTitles)\n",
    "# and encode these new titles for later\n",
    "le = preprocessing.LabelEncoder()\n",
    "titles = ['adult', 'gentry', 'miss', 'military', 'other', 'child']\n",
    "le.fit(titles)\n",
    "data['encodedTitle'] = le.transform(data['title']).astype('int')"
   ]
  },
  {
   "cell_type": "code",
   "execution_count": null,
   "id": "accompanied-october",
   "metadata": {},
   "outputs": [],
   "source": [
    "data = data.assign(SibSpGroup1=train['SibSp'] < 2)\n",
    "data = data.assign(SibSpGroup2=train['SibSp'].between(2, 3, inclusive=True))\n",
    "data = data.assign(SibSpGroup3=train['SibSp'] > 2)"
   ]
  },
  {
   "cell_type": "code",
   "execution_count": null,
   "id": "excessive-broadcasting",
   "metadata": {},
   "outputs": [],
   "source": [
    "data = data.assign(ParChGT2=train['Parch'] > 2)\n",
    "data = data.assign(familySize=data['Parch'] + data['SibSp'])"
   ]
  },
  {
   "cell_type": "code",
   "execution_count": null,
   "id": "collaborative-graduation",
   "metadata": {},
   "outputs": [],
   "source": [
    "def deriveChildren(age: int, parch: int) -> int:\n",
    "    \"\"\" 連れている両親の数だけを抽出。18歳以上は両親がいないと仮定。\n",
    "    Args:\n",
    "        age (int): 搭乗者の年齢\n",
    "        parch (int): 両親、子供の数\n",
    "    Returns:\n",
    "        両親の数 (int)\n",
    "    \"\"\"\n",
    "    if(age < 18):\n",
    "        return parch\n",
    "    else:\n",
    "        return 0\n",
    "    \n",
    "data = data.assign(children=data.apply(lambda row: deriveChildren(row['Age'], row['Parch']), axis = 1))"
   ]
  },
  {
   "cell_type": "code",
   "execution_count": null,
   "id": "outer-projector",
   "metadata": {},
   "outputs": [],
   "source": [
    "def deriveParents(age: int, parch: int) -> int:\n",
    "    \"\"\" 連れている子供の数だけを抽出。18歳未満は子供がいないと仮定。\n",
    "    Args:\n",
    "        age (int): 搭乗者の年齢\n",
    "        parch (int): 両親、子供の数\n",
    "    Returns:\n",
    "        子供の数 (int)\n",
    "    \"\"\"\n",
    "    if(age > 17):\n",
    "        return parch\n",
    "    else:\n",
    "        return 0\n",
    "    \n",
    "data['parents'] = data.apply(lambda row: deriveParents(row['Age'], row['Parch']), axis = 1)"
   ]
  },
  {
   "cell_type": "code",
   "execution_count": null,
   "id": "royal-smell",
   "metadata": {},
   "outputs": [],
   "source": [
    "def deriveResponsibleFor(children: int, SibSp: int) -> float:\n",
    "    \"\"\" 自分を含めた同行者における18歳以上のの大人と責任を持つべき子供の割合を算出。\n",
    "    Args:\n",
    "        children (int): 子供の数\n",
    "        SibSp (int): 兄弟、配偶者の数\n",
    "    Returns:\n",
    "        責任 (XXX)\n",
    "    \"\"\"\n",
    "    if(children > 0):\n",
    "        return children / (SibSp + 1)  # float何にする?\n",
    "    else:\n",
    "        return 0\n",
    "\n",
    "data['responsibleFor'] = data.apply(lambda row: deriveResponsibleFor(row['children'], row['SibSp']), axis = 1)"
   ]
  },
  {
   "cell_type": "code",
   "execution_count": null,
   "id": "naked-extraction",
   "metadata": {},
   "outputs": [],
   "source": [
    "def deriveAccompaniedBy(parents, SibSp):\n",
    "    \"\"\" 親が1以上いる場合に、自分を含めた同行者における、両親の割合を算出。\n",
    "    Args:\n",
    "        parents (int): 親の数\n",
    "        SibSp (int): 兄弟、配偶者の数\n",
    "    Returns:\n",
    "        親に対する子供の割合 (XXX)\n",
    "    \"\"\"\n",
    "    if(parents > 0): return parents / (SibSp + 1)\n",
    "    else: return 0\n",
    "\n",
    "data['accompaniedBy'] = data.apply(lambda row: deriveAccompaniedBy(row['parents'], row['SibSp']), axis = 1)"
   ]
  },
  {
   "cell_type": "code",
   "execution_count": null,
   "id": "first-conditioning",
   "metadata": {},
   "outputs": [],
   "source": [
    "def unaccompaniedChild(age: int, parch: int) -> bool:\n",
    "    \"\"\" 同行者がいない16歳以下の搭乗者かどうかを判定。\n",
    "    Args:\n",
    "        age (int): 搭乗者の年齢\n",
    "        parch (int): 同行者の数\n",
    "    Returns:\n",
    "        同行者がいない場合 True, いる場合 False (bool)\n",
    "    \"\"\"\n",
    "    if((age < 16) & (parch == 0)):\n",
    "        return 1\n",
    "    else:\n",
    "        return 0\n",
    "    \n",
    "data['unaccompaniedChild'] = data.apply(lambda row: unaccompaniedChild(row['Age'], row['Parch']), axis = 1)"
   ]
  },
  {
   "cell_type": "code",
   "execution_count": null,
   "id": "played-penny",
   "metadata": {},
   "outputs": [],
   "source": [
    "data = data.astype({\"Pclass\": int, \"Age\": int, \"SibSp\": int, \"Parch\": int})\n",
    "\n",
    "# label encode string features\n",
    "categorical_names = {}\n",
    "categorical_features = ['Embarked', 'Sex', 'SibSpGroup1', 'SibSpGroup2', 'SibSpGroup3', 'ParChGT2']\n",
    "\n",
    "for feature in categorical_features:\n",
    "    le = preprocessing.LabelEncoder()\n",
    "    le.fit(data[feature])\n",
    "    data[feature] = le.transform(data[feature])\n",
    "    categorical_names[feature] = le.classes_\n",
    "\n",
    "\n",
    "data['class'] = data['Pclass'].astype(int, copy=False)\n",
    "data = data.drop(['Pclass'], axis=1)\n",
    "data = data.drop(['Name', 'Parch', 'SibSp', 'title', 'Ticket', 'PassengerId'], axis=1)"
   ]
  },
  {
   "cell_type": "code",
   "execution_count": null,
   "id": "defined-release",
   "metadata": {},
   "outputs": [],
   "source": [
    "train = data[data['data_type'] == 'train']\n",
    "test = data[data['data_type'] == 'test']\n",
    "X_train, y_train = train.drop(['Survived', 'data_type'], axis=1), train['Survived']\n",
    "y_train = y_train.astype({\"Survived\": int})\n",
    "\n",
    "test = test.drop(['Survived', 'data_type'], axis=1)"
   ]
  },
  {
   "cell_type": "code",
   "execution_count": null,
   "id": "primary-strategy",
   "metadata": {},
   "outputs": [],
   "source": [
    "X_train.to_csv('./data/preprocessed/X_train.csv', header=True, index=False)\n",
    "y_train.to_csv('./data/preprocessed/y_train.csv', header=True, index=False)\n",
    "test.to_csv('./data/preprocessed/test.csv', header=True, index=False)"
   ]
  },
  {
   "cell_type": "code",
   "execution_count": null,
   "id": "serious-anatomy",
   "metadata": {},
   "outputs": [],
   "source": [
    "from sklearn.model_selection import StratifiedKFold, cross_val_score, GridSearchCV\n",
    "\n",
    "rf = RandomForestClassifier(n_estimators=100, n_jobs=-1)\n",
    "\n",
    "param_grid =  {\n",
    "    \"criterion\": [\"gini\", \"entropy\"],\n",
    "    \"max_depth\":[i for i in range(1, 5)]\n",
    "              }\n",
    "\n",
    "stratifiedkfold = StratifiedKFold(n_splits=3)\n",
    "grid_search = GridSearchCV(rf, param_grid, cv=stratifiedkfold, refit=True, scoring='f1')\n",
    "grid_search.fit(X_train, y_train)\n",
    "\n",
    "print(\"score: {}\".format(grid_search.best_score_))"
   ]
  },
  {
   "cell_type": "code",
   "execution_count": null,
   "id": "photographic-greek",
   "metadata": {},
   "outputs": [],
   "source": [
    "prediction = grid_search.predict(test)\n",
    "pd.Series(prediction, name='Survived').to_csv('./data/prediction.csv', header=True, index=False)"
   ]
  }
 ],
 "metadata": {
  "kernelspec": {
   "display_name": "conda_python3",
   "language": "python",
   "name": "conda_python3"
  },
  "language_info": {
   "codemirror_mode": {
    "name": "ipython",
    "version": 3
   },
   "file_extension": ".py",
   "mimetype": "text/x-python",
   "name": "python",
   "nbconvert_exporter": "python",
   "pygments_lexer": "ipython3",
   "version": "3.6.10"
  }
 },
 "nbformat": 4,
 "nbformat_minor": 5
}
