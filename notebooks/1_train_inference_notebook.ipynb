{
 "cells": [
  {
   "cell_type": "markdown",
   "id": "decimal-cartoon",
   "metadata": {},
   "source": [
    "# Jyupyter ノートブック上での前処理、学習、推論\n",
    "\n",
    "このノートブックではデータの前処理、学習、推論を Jupyter ノートブック上で行います。 モデルは [`scikit-learn` ](https://scikit-learn.org/) のランダムフォレストを活用します。特徴量作成やアルゴリズムの選択、ハイパーパラメータの探索など、精度向上の余地などはありますが、まずはパイプラインのベースとします。 Code にあった [Titanic: random forest using sklearn and pandas](https://www.kaggle.com/edeastwood/titanic-random-forest-using-sklearn-and-pandas) を参考にさせて頂きました。"
   ]
  },
  {
   "cell_type": "code",
   "execution_count": null,
   "id": "precise-graphic",
   "metadata": {},
   "outputs": [],
   "source": [
    "import joblib\n",
    "import re\n",
    "\n",
    "import pandas as pd\n",
    "from sklearn.ensemble import RandomForestClassifier\n",
    "from sklearn import preprocessing"
   ]
  },
  {
   "cell_type": "markdown",
   "id": "protected-payment",
   "metadata": {},
   "source": [
    "データを読み込みます。"
   ]
  },
  {
   "cell_type": "code",
   "execution_count": null,
   "id": "adolescent-forward",
   "metadata": {},
   "outputs": [],
   "source": [
    "train = pd.read_csv(\"./data/train.csv\")\n",
    "test = pd.read_csv(\"./data/test.csv\")"
   ]
  },
  {
   "cell_type": "code",
   "execution_count": null,
   "id": "super-display",
   "metadata": {},
   "outputs": [],
   "source": [
    "train.head()"
   ]
  },
  {
   "cell_type": "code",
   "execution_count": null,
   "id": "irish-detection",
   "metadata": {},
   "outputs": [],
   "source": [
    "test.head()"
   ]
  },
  {
   "cell_type": "markdown",
   "id": "reliable-michigan",
   "metadata": {},
   "source": [
    "## データの前処理\n",
    "\n",
    "特徴量作成など、データの前処理を行います。特徴量作成や欠損値の丁寧な取り扱いなど、精度向上のために多くの工夫ができるかと思いますが、機械学習パイプライン構築のためのベースとして行っています。\n",
    "\n",
    "*特徴量を作成する際のアプローチ*\n",
    "- 氏名に含まれるタイトルをカテゴリに変換\n",
    "- 連れている子供や両親の数、同行者中の子供と大人の比率などを算出\n",
    "- 同行者がいない子供のみかどうか\n",
    "といった、家族構成やその中での立ち位置に注目したもの。詳細は、[Titanic: random forest using sklearn and pandas](https://www.kaggle.com/edeastwood/titanic-random-forest-using-sklearn-and-pandas) をご確認下さい。"
   ]
  },
  {
   "cell_type": "code",
   "execution_count": null,
   "id": "affected-suggestion",
   "metadata": {},
   "outputs": [],
   "source": [
    "train['data_type'] = \"train\"\n",
    "test['data_type'] = \"test\"\n",
    "test['Survived'] = \"test\"\n",
    "\n",
    "data = pd.concat([train, test], axis=0)\n",
    "data = data.drop(['Cabin'], axis=1)\n",
    "data = data.dropna(how=\"any\")"
   ]
  },
  {
   "cell_type": "code",
   "execution_count": null,
   "id": "iraqi-cooperation",
   "metadata": {},
   "outputs": [],
   "source": [
    "def deriveTitles(name: str) -> str:\n",
    "    \"\"\" name に含まれるタイトルをそれぞれのカテゴリに変換\n",
    "    Args:\n",
    "        name (str): 登場者の名前\n",
    "    Returns:\n",
    "        名前から抽出されたタイトルに従って変換されたカテゴリ (str)\n",
    "    \"\"\"\n",
    "    title = re.search('(?:\\S )(?P<title>\\w*)', name).group('title')\n",
    "    \n",
    "    if title == \"Mr\":             return \"adult\"\n",
    "    elif title == \"Don\":          return \"gentry\"\n",
    "    elif title == \"Dona\":         return \"gentry\"\n",
    "    elif title == \"Miss\":         return \"miss\"\n",
    "    elif title == \"Col\":          return \"military\"\n",
    "    elif title == \"Rev\":          return \"other\"\n",
    "    elif title == \"Lady\":         return \"gentry\"\n",
    "    elif title == \"Master\":       return \"child\"\n",
    "    elif title == \"Mme\":          return \"adult\"\n",
    "    elif title == \"Captain\":      return \"military\"\n",
    "    elif title == \"Dr\":           return \"other\"\n",
    "    elif title == \"Mrs\":          return \"adult\"\n",
    "    elif title == \"Sir\":          return \"gentry\"\n",
    "    elif title == \"Jonkheer\":     return \"gentry\"\n",
    "    elif title == \"Mlle\":         return \"miss\"\n",
    "    elif title == \"Major\":        return \"military\"\n",
    "    elif title == \"Ms\":           return \"miss\"\n",
    "    elif title == \"the Countess\": return \"gentry\"\n",
    "    else:                         return \"other\"\n",
    "    \n",
    "data[\"title\"] = data.Name.apply(deriveTitles)\n",
    "# and encode these new titles for later\n",
    "le = preprocessing.LabelEncoder()\n",
    "titles = ['adult', 'gentry', 'miss', 'military', 'other', 'child']\n",
    "le.fit(titles)\n",
    "data['encodedTitle'] = le.transform(data['title']).astype('int')"
   ]
  },
  {
   "cell_type": "code",
   "execution_count": null,
   "id": "accepting-borough",
   "metadata": {},
   "outputs": [],
   "source": [
    "data = data.assign(SibSpGroup1=train['SibSp'] < 2)\n",
    "data = data.assign(SibSpGroup2=train['SibSp'].between(2, 3, inclusive=True))\n",
    "data = data.assign(SibSpGroup3=train['SibSp'] > 2)"
   ]
  },
  {
   "cell_type": "code",
   "execution_count": null,
   "id": "consolidated-romance",
   "metadata": {},
   "outputs": [],
   "source": [
    "data = data.assign(ParChGT2=train['Parch'] > 2)\n",
    "data = data.assign(familySize=data['Parch'] + data['SibSp'])"
   ]
  },
  {
   "cell_type": "code",
   "execution_count": null,
   "id": "professional-cinema",
   "metadata": {},
   "outputs": [],
   "source": [
    "def deriveChildren(age: int, parch: int) -> int:\n",
    "    \"\"\" 連れている両親の数だけを抽出。18歳以上は両親がいないと仮定。\n",
    "    Args:\n",
    "        age (int): 搭乗者の年齢\n",
    "        parch (int): 両親、子供の数\n",
    "    Returns:\n",
    "        両親の数 (int)\n",
    "    \"\"\"\n",
    "    if(age < 18):\n",
    "        return parch\n",
    "    else:\n",
    "        return 0\n",
    "    \n",
    "data = data.assign(children=data.apply(lambda row: deriveChildren(row['Age'], row['Parch']), axis = 1))"
   ]
  },
  {
   "cell_type": "code",
   "execution_count": null,
   "id": "committed-rogers",
   "metadata": {},
   "outputs": [],
   "source": [
    "def deriveParents(age: int, parch: int) -> int:\n",
    "    \"\"\" 連れている子供の数だけを抽出。18歳未満は子供がいないと仮定。\n",
    "    Args:\n",
    "        age (int): 搭乗者の年齢\n",
    "        parch (int): 両親、子供の数\n",
    "    Returns:\n",
    "        子供の数 (int)\n",
    "    \"\"\"\n",
    "    if(age > 17):\n",
    "        return parch\n",
    "    else:\n",
    "        return 0\n",
    "    \n",
    "data['parents'] = data.apply(lambda row: deriveParents(row['Age'], row['Parch']), axis = 1)"
   ]
  },
  {
   "cell_type": "code",
   "execution_count": null,
   "id": "considered-rough",
   "metadata": {},
   "outputs": [],
   "source": [
    "def deriveResponsibleFor(children: int, SibSp: int) -> float:\n",
    "    \"\"\" 自分を含めた同行者における18歳以上のの大人と責任を持つべき子供の割合を算出。\n",
    "    Args:\n",
    "        children (int): 子供の数\n",
    "        SibSp (int): 兄弟、配偶者の数\n",
    "    Returns:\n",
    "        責任 (float)\n",
    "    \"\"\"\n",
    "    if(children > 0):\n",
    "        return children / (SibSp + 1)  \n",
    "    else:\n",
    "        return 0\n",
    "\n",
    "data['responsibleFor'] = data.apply(lambda row: deriveResponsibleFor(row['children'], row['SibSp']), axis = 1)"
   ]
  },
  {
   "cell_type": "code",
   "execution_count": null,
   "id": "smart-sierra",
   "metadata": {},
   "outputs": [],
   "source": [
    "def deriveAccompaniedBy(parents, SibSp):\n",
    "    \"\"\" 親が1以上いる場合に、自分を含めた同行者における、両親の割合を算出。\n",
    "    Args:\n",
    "        parents (int): 親の数\n",
    "        SibSp (int): 兄弟、配偶者の数\n",
    "    Returns:\n",
    "        親に対する子供の割合 (float)\n",
    "    \"\"\"\n",
    "    if(parents > 0): return parents / (SibSp + 1)\n",
    "    else: return 0\n",
    "\n",
    "data['accompaniedBy'] = data.apply(lambda row: deriveAccompaniedBy(row['parents'], row['SibSp']), axis = 1)"
   ]
  },
  {
   "cell_type": "code",
   "execution_count": null,
   "id": "obvious-respondent",
   "metadata": {},
   "outputs": [],
   "source": [
    "def unaccompaniedChild(age: int, parch: int) -> bool:\n",
    "    \"\"\" 同行者がいない16歳以下の搭乗者かどうかを判定。\n",
    "    Args:\n",
    "        age (int): 搭乗者の年齢\n",
    "        parch (int): 同行者の数\n",
    "    Returns:\n",
    "        同行者がいない場合 True, いる場合 False (bool)\n",
    "    \"\"\"\n",
    "    if((age < 16) & (parch == 0)):\n",
    "        return 1\n",
    "    else:\n",
    "        return 0\n",
    "    \n",
    "data['unaccompaniedChild'] = data.apply(lambda row: unaccompaniedChild(row['Age'], row['Parch']), axis = 1)"
   ]
  },
  {
   "cell_type": "code",
   "execution_count": null,
   "id": "arbitrary-adobe",
   "metadata": {},
   "outputs": [],
   "source": [
    "data = data.astype({\"Pclass\": int, \"Age\": int, \"SibSp\": int, \"Parch\": int})\n",
    "\n",
    "# label encode string features\n",
    "categorical_names = {}\n",
    "categorical_features = ['Embarked', 'Sex', 'SibSpGroup1', 'SibSpGroup2', 'SibSpGroup3', 'ParChGT2']\n",
    "\n",
    "for feature in categorical_features:\n",
    "    le = preprocessing.LabelEncoder()\n",
    "    le.fit(data[feature])\n",
    "    data[feature] = le.transform(data[feature])\n",
    "    categorical_names[feature] = le.classes_\n",
    "\n",
    "\n",
    "data['class'] = data['Pclass'].astype(int, copy=False)\n",
    "data = data.drop(['Pclass'], axis=1)\n",
    "data = data.drop(['Name', 'Parch', 'SibSp', 'title', 'Ticket', 'PassengerId'], axis=1)"
   ]
  },
  {
   "cell_type": "code",
   "execution_count": null,
   "id": "moving-athens",
   "metadata": {},
   "outputs": [],
   "source": [
    "train = data[data['data_type'] == 'train']\n",
    "test = data[data['data_type'] == 'test']\n",
    "X_train, y_train = train.drop(['Survived', 'data_type'], axis=1), train['Survived']\n",
    "y_train = y_train.astype({\"Survived\": int})\n",
    "\n",
    "test = test.drop(['Survived', 'data_type'], axis=1)"
   ]
  },
  {
   "cell_type": "code",
   "execution_count": null,
   "id": "metric-maryland",
   "metadata": {},
   "outputs": [],
   "source": [
    "X_train.to_csv('./data/preprocessed/X_train.csv', header=True, index=False)\n",
    "y_train.to_csv('./data/preprocessed/y_train.csv', header=True, index=False)\n",
    "test.to_csv('./data/preprocessed/test.csv', header=True, index=False)"
   ]
  },
  {
   "cell_type": "markdown",
   "id": "adverse-whole",
   "metadata": {},
   "source": [
    "## 機械学習モデルの学習\n",
    "\n",
    "今回は `scikit-learn` のランダムフォレストを学習させます。 ハイパーパラメーターの探索は、 `criterion` と `max_depth` のみをグリッドサーチで実施しました。グリッドサーチでのハイパラの評価は、評価指標として `f1` を使用し、交差検証を 3-fold で実施ししています。単純に `f1` スコアが良かったものをベストモデルとしました。"
   ]
  },
  {
   "cell_type": "code",
   "execution_count": null,
   "id": "plastic-advocate",
   "metadata": {},
   "outputs": [],
   "source": [
    "from sklearn.model_selection import StratifiedKFold, cross_val_score, GridSearchCV\n",
    "\n",
    "rf = RandomForestClassifier(n_estimators=100, n_jobs=-1)\n",
    "\n",
    "param_grid =  {\n",
    "    \"criterion\": [\"gini\", \"entropy\"],\n",
    "    \"max_depth\":[i for i in range(1, 5)]\n",
    "              }\n",
    "\n",
    "stratifiedkfold = StratifiedKFold(n_splits=3)\n",
    "grid_search = GridSearchCV(rf, param_grid, cv=stratifiedkfold, refit=True, scoring='f1')\n",
    "grid_search.fit(X_train, y_train)\n",
    "\n",
    "print(\"score: {}\".format(grid_search.best_score_))"
   ]
  },
  {
   "cell_type": "markdown",
   "id": "interpreted-confusion",
   "metadata": {},
   "source": [
    "## 学習したランダムフォレストモデルによる推論\n",
    "\n",
    "学習したモデルにて推論しています。"
   ]
  },
  {
   "cell_type": "code",
   "execution_count": null,
   "id": "round-heath",
   "metadata": {},
   "outputs": [],
   "source": [
    "prediction = grid_search.predict(test)\n",
    "pd.Series(prediction, name='Survived').to_csv('./data/prediction.csv', header=True, index=False)"
   ]
  },
  {
   "cell_type": "markdown",
   "id": "powerful-aircraft",
   "metadata": {},
   "source": [
    "Jupyter ノートブック上での前処理、学習、推論を実施しました。"
   ]
  },
  {
   "cell_type": "code",
   "execution_count": null,
   "id": "narrative-florida",
   "metadata": {},
   "outputs": [],
   "source": []
  }
 ],
 "metadata": {
  "kernelspec": {
   "display_name": "conda_python3",
   "language": "python",
   "name": "conda_python3"
  },
  "language_info": {
   "codemirror_mode": {
    "name": "ipython",
    "version": 3
   },
   "file_extension": ".py",
   "mimetype": "text/x-python",
   "name": "python",
   "nbconvert_exporter": "python",
   "pygments_lexer": "ipython3",
   "version": "3.6.10"
  }
 },
 "nbformat": 4,
 "nbformat_minor": 5
}
