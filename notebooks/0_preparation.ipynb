{
 "cells": [
  {
   "cell_type": "markdown",
   "id": "compressed-savings",
   "metadata": {},
   "source": [
    "## データの準備"
   ]
  },
  {
   "cell_type": "markdown",
   "id": "authorized-conviction",
   "metadata": {},
   "source": [
    "Kaggle API をインストールします。 "
   ]
  },
  {
   "cell_type": "code",
   "execution_count": null,
   "id": "absolute-description",
   "metadata": {},
   "outputs": [],
   "source": [
    "!pip install kaggle"
   ]
  },
  {
   "cell_type": "markdown",
   "id": "thermal-neighbor",
   "metadata": {},
   "source": [
    "インストール後には、[こちら](https://github.com/Kaggle/kaggle-api) に従い、API credentials を設定して下さい。"
   ]
  },
  {
   "cell_type": "markdown",
   "id": "higher-ballot",
   "metadata": {},
   "source": [
    "## データセットのダウンロード"
   ]
  },
  {
   "cell_type": "code",
   "execution_count": null,
   "id": "olympic-preparation",
   "metadata": {},
   "outputs": [],
   "source": [
    "!kaggle competitions download -c titanic\n",
    "!unzip titanic.zip -d data"
   ]
  },
  {
   "cell_type": "markdown",
   "id": "spanish-stanley",
   "metadata": {},
   "source": [
    "これで `data` ディレクトリ以下に csv ファイルが保存されました。"
   ]
  },
  {
   "cell_type": "code",
   "execution_count": null,
   "id": "pressing-rider",
   "metadata": {},
   "outputs": [],
   "source": []
  }
 ],
 "metadata": {
  "kernelspec": {
   "display_name": "conda_python3",
   "language": "python",
   "name": "conda_python3"
  },
  "language_info": {
   "codemirror_mode": {
    "name": "ipython",
    "version": 3
   },
   "file_extension": ".py",
   "mimetype": "text/x-python",
   "name": "python",
   "nbconvert_exporter": "python",
   "pygments_lexer": "ipython3",
   "version": "3.6.10"
  }
 },
 "nbformat": 4,
 "nbformat_minor": 5
}
