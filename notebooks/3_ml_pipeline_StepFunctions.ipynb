{
 "cells": [
  {
   "cell_type": "markdown",
   "id": "infectious-likelihood",
   "metadata": {},
   "source": [
    "## 機械学習パイプラインを構築した前処理、学習、推論の自動化\n",
    "\n",
    "このノートブックでは、AWS StepFunctions を活用し、2 で活用した前処理や、学習、推論といったそれぞれのジョブを一つのパイプラインにまとめます。その際、エラーハンドリングを行う機構も構築します。ワークフローの定義を Python で記述できる [AWS StepFunctions Data Science SDK](https://aws-step-functions-data-science-sdk.readthedocs.io/en/stable/) を使います。ワークフローは構築したパイプラインはそのまま AWS 上に構築することができ、CloudFormation のテンプレートとしてもエクスポートできます。"
   ]
  },
  {
   "cell_type": "markdown",
   "id": "metropolitan-mouth",
   "metadata": {},
   "source": [
    "## AWS StepFunctions Data Science SDK のインストール"
   ]
  },
  {
   "cell_type": "code",
   "execution_count": null,
   "id": "provincial-premises",
   "metadata": {},
   "outputs": [],
   "source": [
    "import sys\n",
    "!{sys.executable} -m pip install --upgrade stepfunctions"
   ]
  },
  {
   "cell_type": "markdown",
   "id": "synthetic-wallet",
   "metadata": {},
   "source": [
    "## データの準備、s3 へアップロード\n",
    "今回も元のデータが S3 に保存されている状態からパイプラインを開始したいと思います。また、実行環境も前回と同様に前処理用のコンテナを準備氏、学習と推論用には AWS が提供している `scikit-learn` が事前にインストールされているコンテナを活用します。"
   ]
  },
  {
   "cell_type": "markdown",
   "id": "circular-knight",
   "metadata": {},
   "source": [
    "### 使用するライブラリなどの読み込み"
   ]
  },
  {
   "cell_type": "code",
   "execution_count": null,
   "id": "excited-skill",
   "metadata": {},
   "outputs": [],
   "source": [
    "import boto3\n",
    "import sagemaker\n",
    "import io\n",
    "import uuid\n",
    "import logging\n",
    "\n",
    "import sagemaker\n",
    "from sagemaker import get_execution_role\n",
    "from sagemaker.processing import ScriptProcessor, ProcessingInput, ProcessingOutput\n",
    "\n",
    "import stepfunctions\n",
    "from stepfunctions import steps\n",
    "from stepfunctions.steps import TrainingStep, ModelStep, TransformStep\n",
    "from stepfunctions.inputs import ExecutionInput\n",
    "from stepfunctions.workflow import Workflow\n",
    "from stepfunctions.template import TrainingPipeline\n",
    "from stepfunctions.template.utils import replace_parameters_with_jsonpath\n",
    "\n",
    "stepfunctions.set_stream_logger(level=logging.INFO)"
   ]
  },
  {
   "cell_type": "markdown",
   "id": "patient-rough",
   "metadata": {},
   "source": [
    "AWS StepFunctions が各ジョブを実行する権限は、`TitanicPipelineAppStack-stepfunctionsworkflowexect` で定義されているので、AWS コンソールから確認して下記に ARN を記入下さい。"
   ]
  },
  {
   "cell_type": "code",
   "execution_count": null,
   "id": "fourth-stopping",
   "metadata": {},
   "outputs": [],
   "source": [
    "role = get_execution_role()\n",
    "workflow_execution_role = '<Your StepFunctions Workflow Role>'"
   ]
  },
  {
   "cell_type": "markdown",
   "id": "collective-classic",
   "metadata": {},
   "source": [
    "### S3 へのデータのアップロード"
   ]
  },
  {
   "cell_type": "code",
   "execution_count": null,
   "id": "industrial-zoning",
   "metadata": {},
   "outputs": [],
   "source": [
    "sagemaker_session = sagemaker.Session()\n",
    "input_train = sagemaker_session.upload_data(path='./data/train.csv', key_prefix='kaggle-ml-pipeline/data')\n",
    "input_test = sagemaker_session.upload_data(path='./data/test.csv', key_prefix='kaggle-ml-pipeline/data')"
   ]
  },
  {
   "cell_type": "markdown",
   "id": "liable-restriction",
   "metadata": {},
   "source": [
    "### データ前処理用のコンテナの準備"
   ]
  },
  {
   "cell_type": "code",
   "execution_count": null,
   "id": "electronic-waste",
   "metadata": {},
   "outputs": [],
   "source": [
    "!docker build -t sagemaker-kaggle-titanic-preprocess ./scripts/preprocess\n",
    "\n",
    "import boto3\n",
    "\n",
    "# boto3の機能を使ってリポジトリ名に必要な情報を取得する\n",
    "account_id = boto3.client('sts').get_caller_identity().get('Account')\n",
    "region = boto3.session.Session().region_name\n",
    "tag = ':latest'\n",
    "\n",
    "# SageMakerFullAccess を使っているから repository 名の中に sagemaker が含まれている必要がある\n",
    "ecr_repository = f'sagemaker-kaggle-titanic-preprocess'\n",
    "image_uri = f'{account_id}.dkr.ecr.{region}.amazonaws.com/{ecr_repository+tag}'\n",
    "\n",
    "!$(aws ecr get-login --region $region --registry-ids $account_id --no-include-email)\n",
    " \n",
    "# リポジトリの作成\n",
    "# すでにある場合はこのコマンドは必要ない\n",
    "!aws ecr create-repository --repository-name $ecr_repository\n",
    " \n",
    "!docker build -t {ecr_repository} .\n",
    "!docker tag {ecr_repository + tag} $image_uri\n",
    "!docker push $image_uri\n",
    "\n",
    "print(f'コンテナは {image_uri} へ登録されています。')"
   ]
  },
  {
   "cell_type": "markdown",
   "id": "unlike-equality",
   "metadata": {},
   "source": [
    "## ワークフロー定義の準備\n",
    "ワークフローへ渡す設定について、スキーマを定義します。"
   ]
  },
  {
   "cell_type": "code",
   "execution_count": null,
   "id": "quality-emphasis",
   "metadata": {},
   "outputs": [],
   "source": [
    "# SageMaker へは学習ジョブ、モデル、エンドポイントへそれぞれユニークな名前を用います。 \n",
    "execution_input = ExecutionInput(\n",
    "    schema={\n",
    "    'ModelName': str,\n",
    "    'TrainPreprocessingJobName': str,\n",
    "    'TrainingJobName': str, \n",
    "    'TestPreprocessingJobName': str,\n",
    "    'TransformJobName': str\n",
    "    }\n",
    ")"
   ]
  },
  {
   "cell_type": "markdown",
   "id": "useful-renaissance",
   "metadata": {},
   "source": [
    "### 学習ステップの定義\n",
    "前回行った、前処理と学習と同様の内容を実施しますが、今回はノートブック経由で SDK にてジョブを発行するのではなく、それぞれのステップとして定義し、最後にワークフローへと統合していきます。前処理ジョブの定義は前回と同様です。"
   ]
  },
  {
   "cell_type": "code",
   "execution_count": null,
   "id": "vanilla-restriction",
   "metadata": {},
   "outputs": [],
   "source": [
    "job_name = f'sagemaker-kaggle-preprocessing-train'\n",
    "output_s3_path = 's3://' + sagemaker_session.default_bucket() + '/kaggle-ml-pipeline'\n",
    "\n",
    "processing_input_dir = '/opt/ml/processing/input'\n",
    "processing_code_dir = '/opt/ml/processing/input/code'\n",
    "processing_output_dir = '/opt/ml/processing/output'\n",
    "\n",
    "\n",
    "PREPROCESSING_SCRIPT_LOCATION = './scripts/preprocess/preprocess_script/preprocess.py'\n",
    "\n",
    "input_code = sagemaker_session.upload_data(\n",
    "    PREPROCESSING_SCRIPT_LOCATION,\n",
    "    bucket=sagemaker_session.default_bucket(),\n",
    "    key_prefix= 'kaggle-ml-pipeline/preprocess/code',\n",
    ")\n",
    "\n",
    "output_s3_path_preprocess = output_s3_path + '/preprocessed'\n",
    "\n",
    "processor = ScriptProcessor(base_job_name=job_name,\n",
    "                                   image_uri=image_uri,\n",
    "                                   command=['python3'],\n",
    "                                   role=role,\n",
    "                                   instance_count=1,\n",
    "                                   instance_type='ml.c5.xlarge'\n",
    "                                  )"
   ]
  },
  {
   "cell_type": "markdown",
   "id": "royal-helena",
   "metadata": {},
   "source": [
    "定義した前処理ジョブをワークフローに組み込めるようにステップとします。"
   ]
  },
  {
   "cell_type": "code",
   "execution_count": null,
   "id": "romance-aircraft",
   "metadata": {},
   "outputs": [],
   "source": [
    "from stepfunctions.steps import ProcessingStep\n",
    "\n",
    "train_preprocess_step = ProcessingStep(\n",
    "    'Preprocess for Training Step', \n",
    "    processor=processor,\n",
    "    job_name=execution_input[\"TrainPreprocessingJobName\"],\n",
    "    inputs=[\n",
    "        ProcessingInput(source=input_code, destination=processing_code_dir, input_name=\"code\"),\n",
    "        ProcessingInput(source=input_train, destination=processing_input_dir, input_name=\"train_data\"),\n",
    "    ],\n",
    "    outputs=[ProcessingOutput(source=processing_output_dir, destination=output_s3_path_preprocess, output_name=\"processed_train_data\")],\n",
    "    container_arguments=[\n",
    "                  '--data_type', 'train',\n",
    "                  '--input_dir',processing_input_dir,\n",
    "                  '--output_dir',processing_output_dir\n",
    "                      ],\n",
    "    container_entrypoint=[\"python3\", \"/opt/ml/processing/input/code/preprocess.py\"]\n",
    ")"
   ]
  },
  {
   "cell_type": "markdown",
   "id": "variable-floor",
   "metadata": {},
   "source": [
    "学習ジョブの定義も前回と同様です。"
   ]
  },
  {
   "cell_type": "code",
   "execution_count": null,
   "id": "periodic-strategy",
   "metadata": {},
   "outputs": [],
   "source": [
    "from sagemaker.sklearn.estimator import SKLearn\n",
    "\n",
    "output_s3_path_train = output_s3_path + '/train'\n",
    "\n",
    "sklearn = SKLearn(\n",
    "    entry_point='scripts/train/train.py',\n",
    "    framework_version=\"0.23-1\",\n",
    "    train_instance_type=\"ml.m5.xlarge\",\n",
    "    output_path=output_s3_path_train,\n",
    "    role=role)\n",
    "\n",
    "train_input = output_s3_path_preprocess + '/train.csv'"
   ]
  },
  {
   "cell_type": "markdown",
   "id": "mineral-beverage",
   "metadata": {},
   "source": [
    "学習ジョブもステップとして定義します。"
   ]
  },
  {
   "cell_type": "code",
   "execution_count": null,
   "id": "defensive-centre",
   "metadata": {},
   "outputs": [],
   "source": [
    "from stepfunctions.steps import TrainingStep\n",
    "\n",
    "training_step = TrainingStep(\n",
    "    'Train Step', \n",
    "    estimator=sklearn,\n",
    "    data={'train': train_input},\n",
    "    job_name=execution_input['TrainingJobName']  \n",
    ")"
   ]
  },
  {
   "cell_type": "code",
   "execution_count": null,
   "id": "studied-arena",
   "metadata": {},
   "outputs": [],
   "source": [
    "training_step.get_expected_model()"
   ]
  },
  {
   "cell_type": "markdown",
   "id": "formal-vanilla",
   "metadata": {},
   "source": [
    "### 推論ステップの定義"
   ]
  },
  {
   "cell_type": "markdown",
   "id": "photographic-cyprus",
   "metadata": {},
   "source": [
    "学習済モデルを推論で活用するために、モデル作成ステップを定義します。前回は Jupyter ノートブック上で学習ジョブと推論ジョブを呼び出していた(学習用ジョブの Estimator インスタンスをそのまま推論でも活用していた)ため、モデル作成を明示的には行っていませんでしたが、今回はパイプラインの中で独立したステップとして実行するために、モデル作成ステップを追加しています。"
   ]
  },
  {
   "cell_type": "code",
   "execution_count": 13,
   "id": "cheap-butter",
   "metadata": {},
   "outputs": [],
   "source": [
    "model_step = steps.ModelStep(\n",
    "    state_id='Save model',\n",
    "    model=training_step.get_expected_model(),\n",
    "    model_name=execution_input['ModelName']  \n",
    ")"
   ]
  },
  {
   "cell_type": "markdown",
   "id": "central-annotation",
   "metadata": {},
   "source": [
    "推論用の前処理は前回と同様であり、こちらもステップとして定義します。"
   ]
  },
  {
   "cell_type": "code",
   "execution_count": 14,
   "id": "rotary-buffer",
   "metadata": {},
   "outputs": [],
   "source": [
    "job_name = f'sagemaker-kaggle-preprocessing-test'\n",
    "\n",
    "processor = ScriptProcessor(base_job_name=job_name,\n",
    "                                   image_uri=image_uri,\n",
    "                                   command=['python3'],\n",
    "                                   role=role,\n",
    "                                   instance_count=1,\n",
    "                                   instance_type='ml.c5.xlarge'\n",
    "                                  )"
   ]
  },
  {
   "cell_type": "code",
   "execution_count": 15,
   "id": "valid-seeker",
   "metadata": {},
   "outputs": [],
   "source": [
    "test_preprocess_step = steps.ProcessingStep(\n",
    "    'Preprocess for Test Step', \n",
    "    processor=processor,\n",
    "    job_name=execution_input[\"TestPreprocessingJobName\"],\n",
    "    inputs=[\n",
    "        ProcessingInput(source=input_code, destination=processing_code_dir, input_name=\"code\"),\n",
    "        ProcessingInput(source=input_test, destination=processing_input_dir, input_name=\"test_data\"),\n",
    "    ],\n",
    "    outputs=[ProcessingOutput(source=processing_output_dir, destination=output_s3_path_preprocess, output_name=\"processed_test_data\")],\n",
    "    container_arguments=[\n",
    "                  '--data_type', 'test',\n",
    "                  '--input_dir',processing_input_dir,\n",
    "                  '--output_dir',processing_output_dir\n",
    "                      ],\n",
    "    container_entrypoint=[\"python3\", \"/opt/ml/processing/input/code/preprocess.py\"]\n",
    ")"
   ]
  },
  {
   "cell_type": "markdown",
   "id": "invalid-preservation",
   "metadata": {},
   "source": [
    "バッチ変換ジョブもステップとして定義します。"
   ]
  },
  {
   "cell_type": "code",
   "execution_count": 30,
   "id": "naked-bridges",
   "metadata": {},
   "outputs": [],
   "source": [
    "test_input = output_s3_path_preprocess + '/test.csv'\n",
    "\n",
    "output_s3_path_inference = output_s3_path + '/batch_inference'\n",
    "transformer = sklearn.transformer(instance_count=1,\n",
    "                                  instance_type='ml.m5.xlarge',\n",
    "                                  output_path=output_s3_path_inference)\n",
    "\n",
    "transform_step = steps.TransformStep(\n",
    "    'Transform Input Dataset',\n",
    "    transformer=sklearn.transformer(\n",
    "        instance_count=1,\n",
    "        instance_type='ml.m5.large'\n",
    "    ),\n",
    "    job_name=execution_input['TransformJobName'],     \n",
    "    model_name=execution_input['ModelName'], \n",
    "    data=test_input,\n",
    "    content_type='text/csv'\n",
    ")"
   ]
  },
  {
   "cell_type": "markdown",
   "id": "considerable-drain",
   "metadata": {},
   "source": [
    "各ステップでのジョブが失敗した場合に対応する `Catch` ステップを定義します。"
   ]
  },
  {
   "cell_type": "code",
   "execution_count": 31,
   "id": "instructional-message",
   "metadata": {},
   "outputs": [],
   "source": [
    "failed_state_sagemaker_processing_failure = stepfunctions.steps.states.Fail(\n",
    "    \"ML Workflow failed\", cause=\"SageMakerProcessingJobFailed\"\n",
    ")\n",
    "\n",
    "catch_state_processing = stepfunctions.steps.states.Catch(\n",
    "    error_equals=[\"States.TaskFailed\"],\n",
    "    next_step=failed_state_sagemaker_processing_failure,\n",
    ")\n",
    "\n",
    "train_preprocess_step.add_catch(catch_state_processing)\n",
    "training_step.add_catch(catch_state_processing)\n",
    "test_preprocess_step.add_catch(catch_state_processing)\n",
    "transform_step.add_catch(catch_state_processing)"
   ]
  },
  {
   "cell_type": "markdown",
   "id": "elect-flower",
   "metadata": {},
   "source": [
    "各ステップをワークフローとして定義し、内容をレンダリングして確認します。"
   ]
  },
  {
   "cell_type": "code",
   "execution_count": 32,
   "id": "exceptional-rings",
   "metadata": {},
   "outputs": [
    {
     "data": {
      "text/html": [
       "\n",
       "<link rel=\"stylesheet\" type=\"text/css\" href=\"https://do0of8uwbahzz.cloudfront.net/graph.css\">\n",
       "<div id=\"graph-492\" class=\"workflowgraph\">\n",
       "    \n",
       "    <svg></svg>\n",
       "    \n",
       "</div>\n",
       "\n",
       "<script type=\"text/javascript\">\n",
       "\n",
       "require.config({\n",
       "    paths: {\n",
       "        sfn: \"https://do0of8uwbahzz.cloudfront.net/sfn\",\n",
       "    }\n",
       "});\n",
       "\n",
       "require(['sfn'], function(sfn) {\n",
       "    var element = document.getElementById('graph-492')\n",
       "\n",
       "    var options = {\n",
       "        width: parseFloat(getComputedStyle(element, null).width.replace(\"px\", \"\")),\n",
       "        height: 600,\n",
       "        layout: 'LR',\n",
       "        resizeHeight: true\n",
       "    };\n",
       "\n",
       "    var definition = {\"StartAt\": \"Preprocess for Training Step\", \"States\": {\"Preprocess for Training Step\": {\"Resource\": \"arn:aws:states:::sagemaker:createProcessingJob.sync\", \"Parameters\": {\"ProcessingJobName.$\": \"$$.Execution.Input['TrainPreprocessingJobName']\", \"ProcessingInputs\": [{\"InputName\": \"code\", \"AppManaged\": false, \"S3Input\": {\"S3Uri\": \"s3://sagemaker-ap-northeast-1-815969174475/kaggle-ml-pipeline/preprocess/code/preprocess.py\", \"LocalPath\": \"/opt/ml/processing/input/code\", \"S3DataType\": \"S3Prefix\", \"S3InputMode\": \"File\", \"S3DataDistributionType\": \"FullyReplicated\", \"S3CompressionType\": \"None\"}}, {\"InputName\": \"train_data\", \"AppManaged\": false, \"S3Input\": {\"S3Uri\": \"s3://sagemaker-ap-northeast-1-815969174475/kaggle-ml-pipeline/data/train.csv\", \"LocalPath\": \"/opt/ml/processing/input\", \"S3DataType\": \"S3Prefix\", \"S3InputMode\": \"File\", \"S3DataDistributionType\": \"FullyReplicated\", \"S3CompressionType\": \"None\"}}], \"ProcessingOutputConfig\": {\"Outputs\": [{\"OutputName\": \"processed_train_data\", \"AppManaged\": false, \"S3Output\": {\"S3Uri\": \"s3://sagemaker-ap-northeast-1-815969174475/kaggle-ml-pipeline/preprocessed\", \"LocalPath\": \"/opt/ml/processing/output\", \"S3UploadMode\": \"EndOfJob\"}}]}, \"AppSpecification\": {\"ImageUri\": \"815969174475.dkr.ecr.ap-northeast-1.amazonaws.com/sagemaker-kaggle-titanic-preprocess:latest\", \"ContainerArguments\": [\"--data_type\", \"train\", \"--input_dir\", \"/opt/ml/processing/input\", \"--output_dir\", \"/opt/ml/processing/output\"], \"ContainerEntrypoint\": [\"python3\", \"/opt/ml/processing/input/code/preprocess.py\"]}, \"RoleArn\": \"arn:aws:iam::815969174475:role/TitanicPipelineAppStack-titanicpipelinesmnotebooke-1WJ37GUF25DIG\", \"ProcessingResources\": {\"ClusterConfig\": {\"InstanceCount\": 1, \"InstanceType\": \"ml.c5.xlarge\", \"VolumeSizeInGB\": 30}}}, \"Type\": \"Task\", \"Next\": \"Train Step\", \"Catch\": [{\"ErrorEquals\": [\"States.TaskFailed\"], \"Next\": \"ML Workflow failed\"}, {\"ErrorEquals\": [\"States.TaskFailed\"], \"Next\": \"ML Workflow failed\"}, {\"ErrorEquals\": [\"States.TaskFailed\"], \"Next\": \"ML Workflow failed\"}]}, \"Train Step\": {\"Resource\": \"arn:aws:states:::sagemaker:createTrainingJob.sync\", \"Parameters\": {\"AlgorithmSpecification\": {\"TrainingImage\": \"354813040037.dkr.ecr.ap-northeast-1.amazonaws.com/sagemaker-scikit-learn:0.23-1-cpu-py3\", \"TrainingInputMode\": \"File\"}, \"OutputDataConfig\": {\"S3OutputPath\": \"s3://sagemaker-ap-northeast-1-815969174475/kaggle-ml-pipeline/train\"}, \"StoppingCondition\": {\"MaxRuntimeInSeconds\": 86400}, \"ResourceConfig\": {\"InstanceCount\": 1, \"InstanceType\": \"ml.m5.xlarge\", \"VolumeSizeInGB\": 30}, \"RoleArn\": \"arn:aws:iam::815969174475:role/TitanicPipelineAppStack-titanicpipelinesmnotebooke-1WJ37GUF25DIG\", \"InputDataConfig\": [{\"DataSource\": {\"S3DataSource\": {\"S3DataType\": \"S3Prefix\", \"S3Uri\": \"s3://sagemaker-ap-northeast-1-815969174475/kaggle-ml-pipeline/preprocessed/train.csv\", \"S3DataDistributionType\": \"FullyReplicated\"}}, \"ChannelName\": \"train\"}], \"HyperParameters\": {\"sagemaker_submit_directory\": \"\\\"s3://sagemaker-ap-northeast-1-815969174475/sagemaker-scikit-learn-2021-04-06-12-51-40-794/source/sourcedir.tar.gz\\\"\", \"sagemaker_program\": \"\\\"train.py\\\"\", \"sagemaker_container_log_level\": \"20\", \"sagemaker_job_name\": \"\\\"sagemaker-scikit-learn-2021-04-06-12-51-40-895\\\"\", \"sagemaker_region\": \"\\\"ap-northeast-1\\\"\"}, \"TrainingJobName.$\": \"$$.Execution.Input['TrainingJobName']\", \"DebugHookConfig\": {\"S3OutputPath\": \"s3://sagemaker-ap-northeast-1-815969174475/kaggle-ml-pipeline/train\"}}, \"Type\": \"Task\", \"Next\": \"Save model\", \"Catch\": [{\"ErrorEquals\": [\"States.TaskFailed\"], \"Next\": \"ML Workflow failed\"}, {\"ErrorEquals\": [\"States.TaskFailed\"], \"Next\": \"ML Workflow failed\"}, {\"ErrorEquals\": [\"States.TaskFailed\"], \"Next\": \"ML Workflow failed\"}]}, \"Save model\": {\"Parameters\": {\"ModelName.$\": \"$$.Execution.Input['ModelName']\", \"PrimaryContainer\": {\"Image\": \"354813040037.dkr.ecr.ap-northeast-1.amazonaws.com/sagemaker-scikit-learn:0.23-1-cpu-py3\", \"Environment\": {\"SAGEMAKER_PROGRAM\": \"train.py\", \"SAGEMAKER_SUBMIT_DIRECTORY\": \"s3://sagemaker-ap-northeast-1-815969174475/sagemaker-scikit-learn-2021-04-06-12-51-40-794/source/sourcedir.tar.gz\", \"SAGEMAKER_CONTAINER_LOG_LEVEL\": \"20\", \"SAGEMAKER_REGION\": \"ap-northeast-1\"}, \"ModelDataUrl.$\": \"$['ModelArtifacts']['S3ModelArtifacts']\"}, \"ExecutionRoleArn\": \"arn:aws:iam::815969174475:role/TitanicPipelineAppStack-titanicpipelinesmnotebooke-1WJ37GUF25DIG\"}, \"Resource\": \"arn:aws:states:::sagemaker:createModel\", \"Type\": \"Task\", \"Next\": \"Preprocess for Test Step\"}, \"Preprocess for Test Step\": {\"Resource\": \"arn:aws:states:::sagemaker:createProcessingJob.sync\", \"Parameters\": {\"ProcessingJobName.$\": \"$$.Execution.Input['TestPreprocessingJobName']\", \"ProcessingInputs\": [{\"InputName\": \"code\", \"AppManaged\": false, \"S3Input\": {\"S3Uri\": \"s3://sagemaker-ap-northeast-1-815969174475/kaggle-ml-pipeline/preprocess/code/preprocess.py\", \"LocalPath\": \"/opt/ml/processing/input/code\", \"S3DataType\": \"S3Prefix\", \"S3InputMode\": \"File\", \"S3DataDistributionType\": \"FullyReplicated\", \"S3CompressionType\": \"None\"}}, {\"InputName\": \"test_data\", \"AppManaged\": false, \"S3Input\": {\"S3Uri\": \"s3://sagemaker-ap-northeast-1-815969174475/kaggle-ml-pipeline/data/test.csv\", \"LocalPath\": \"/opt/ml/processing/input\", \"S3DataType\": \"S3Prefix\", \"S3InputMode\": \"File\", \"S3DataDistributionType\": \"FullyReplicated\", \"S3CompressionType\": \"None\"}}], \"ProcessingOutputConfig\": {\"Outputs\": [{\"OutputName\": \"processed_test_data\", \"AppManaged\": false, \"S3Output\": {\"S3Uri\": \"s3://sagemaker-ap-northeast-1-815969174475/kaggle-ml-pipeline/preprocessed\", \"LocalPath\": \"/opt/ml/processing/output\", \"S3UploadMode\": \"EndOfJob\"}}]}, \"AppSpecification\": {\"ImageUri\": \"815969174475.dkr.ecr.ap-northeast-1.amazonaws.com/sagemaker-kaggle-titanic-preprocess:latest\", \"ContainerArguments\": [\"--data_type\", \"test\", \"--input_dir\", \"/opt/ml/processing/input\", \"--output_dir\", \"/opt/ml/processing/output\"], \"ContainerEntrypoint\": [\"python3\", \"/opt/ml/processing/input/code/preprocess.py\"]}, \"RoleArn\": \"arn:aws:iam::815969174475:role/TitanicPipelineAppStack-titanicpipelinesmnotebooke-1WJ37GUF25DIG\", \"ProcessingResources\": {\"ClusterConfig\": {\"InstanceCount\": 1, \"InstanceType\": \"ml.c5.xlarge\", \"VolumeSizeInGB\": 30}}}, \"Type\": \"Task\", \"Next\": \"Transform Input Dataset\", \"Catch\": [{\"ErrorEquals\": [\"States.TaskFailed\"], \"Next\": \"ML Workflow failed\"}, {\"ErrorEquals\": [\"States.TaskFailed\"], \"Next\": \"ML Workflow failed\"}, {\"ErrorEquals\": [\"States.TaskFailed\"], \"Next\": \"ML Workflow failed\"}]}, \"Transform Input Dataset\": {\"Resource\": \"arn:aws:states:::sagemaker:createTransformJob.sync\", \"Parameters\": {\"TransformJobName.$\": \"$$.Execution.Input['TransformJobName']\", \"ModelName.$\": \"$$.Execution.Input['ModelName']\", \"TransformInput\": {\"DataSource\": {\"S3DataSource\": {\"S3DataType\": \"S3Prefix\", \"S3Uri\": \"s3://sagemaker-ap-northeast-1-815969174475/kaggle-ml-pipeline/preprocessed/test.csv\"}}, \"ContentType\": \"text/csv\"}, \"TransformOutput\": {\"S3OutputPath\": \"s3://sagemaker-ap-northeast-1-815969174475/sagemaker-scikit-learn-2021-04-06-13-46-40-616\"}, \"TransformResources\": {\"InstanceCount\": 1, \"InstanceType\": \"ml.m5.large\"}, \"Environment\": {}}, \"Type\": \"Task\", \"End\": true, \"Catch\": [{\"ErrorEquals\": [\"States.TaskFailed\"], \"Next\": \"ML Workflow failed\"}]}, \"ML Workflow failed\": {\"Cause\": \"SageMakerProcessingJobFailed\", \"Type\": \"Fail\"}}};\n",
       "    var elementId = '#graph-492';\n",
       "\n",
       "    var graph = new sfn.StateMachineGraph(definition, elementId, options);\n",
       "    graph.render();\n",
       "});\n",
       "\n",
       "</script>\n"
      ],
      "text/plain": [
       "<IPython.core.display.HTML object>"
      ]
     },
     "execution_count": 32,
     "metadata": {},
     "output_type": "execute_result"
    }
   ],
   "source": [
    "workflow_definition = steps.Chain([train_preprocess_step, training_step, model_step, test_preprocess_step, transform_step])\n",
    "\n",
    "workflow = Workflow(\n",
    "    name=\"titanic-ml-pipeline16\",\n",
    "    definition=workflow_definition,\n",
    "    role=workflow_execution_role,\n",
    ")\n",
    "\n",
    "workflow.render_graph()"
   ]
  },
  {
   "cell_type": "markdown",
   "id": "creative-eclipse",
   "metadata": {},
   "source": [
    "定義したワークフローは AWS CloudFormation のテンプレートとして出力できるため、Terraform など、サードパーティ OSS 含めた各種ツールでのデプロイにも流用できます。"
   ]
  },
  {
   "cell_type": "code",
   "execution_count": 33,
   "id": "saving-house",
   "metadata": {},
   "outputs": [
    {
     "name": "stdout",
     "output_type": "stream",
     "text": [
      "\u001b[33m[WARNING] To reuse the CloudFormation template in different regions, please make sure to update the region specific AWS resources in the StateMachine definition.\u001b[0m\n"
     ]
    }
   ],
   "source": [
    "template = workflow.get_cloudformation_template()"
   ]
  },
  {
   "cell_type": "markdown",
   "id": "medium-router",
   "metadata": {},
   "source": [
    "### Workflow の実行\n",
    "`Chain` メソッドでまとめあげた各ステップを `workflow` として実行します。"
   ]
  },
  {
   "cell_type": "code",
   "execution_count": 34,
   "id": "theoretical-northeast",
   "metadata": {},
   "outputs": [
    {
     "name": "stdout",
     "output_type": "stream",
     "text": [
      "\u001b[32m[INFO] Workflow created successfully on AWS Step Functions.\u001b[0m\n",
      "\u001b[32m[INFO] Workflow execution started successfully on AWS Step Functions.\u001b[0m\n"
     ]
    }
   ],
   "source": [
    "workflow.create()\n",
    "\n",
    "execution = workflow.execute(\n",
    "    inputs={\n",
    "        \"ModelName\": 'model-{}'.format(uuid.uuid1().hex),\n",
    "        \"TrainPreprocessingJobName\": 'train-preprocess-job-{}'.format(uuid.uuid1().hex), \n",
    "        \"TrainingJobName\": 'training-job-{}'.format(uuid.uuid1().hex),\n",
    "        \"TestPreprocessingJobName\": 'test-preprocess-job-{}'.format(uuid.uuid1().hex),\n",
    "        \"TransformJobName\": 'transform-job-{}'.format(uuid.uuid1().hex),\n",
    "    }\n",
    ")"
   ]
  },
  {
   "cell_type": "code",
   "execution_count": null,
   "id": "successful-hypothesis",
   "metadata": {},
   "outputs": [],
   "source": []
  },
  {
   "cell_type": "code",
   "execution_count": null,
   "id": "native-husband",
   "metadata": {},
   "outputs": [],
   "source": []
  },
  {
   "cell_type": "code",
   "execution_count": null,
   "id": "right-resistance",
   "metadata": {},
   "outputs": [],
   "source": []
  },
  {
   "cell_type": "code",
   "execution_count": null,
   "id": "developing-fraction",
   "metadata": {},
   "outputs": [],
   "source": []
  },
  {
   "cell_type": "code",
   "execution_count": null,
   "id": "rotary-submission",
   "metadata": {},
   "outputs": [],
   "source": []
  },
  {
   "cell_type": "code",
   "execution_count": null,
   "id": "inner-amsterdam",
   "metadata": {},
   "outputs": [],
   "source": []
  }
 ],
 "metadata": {
  "kernelspec": {
   "display_name": "conda_python3",
   "language": "python",
   "name": "conda_python3"
  },
  "language_info": {
   "codemirror_mode": {
    "name": "ipython",
    "version": 3
   },
   "file_extension": ".py",
   "mimetype": "text/x-python",
   "name": "python",
   "nbconvert_exporter": "python",
   "pygments_lexer": "ipython3",
   "version": "3.6.13"
  }
 },
 "nbformat": 4,
 "nbformat_minor": 5
}
