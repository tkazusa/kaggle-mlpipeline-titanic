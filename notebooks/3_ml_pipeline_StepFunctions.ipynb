{
 "cells": [
  {
   "cell_type": "code",
   "execution_count": null,
   "id": "equipped-soviet",
   "metadata": {},
   "outputs": [],
   "source": [
    "## 準備"
   ]
  },
  {
   "cell_type": "code",
   "execution_count": null,
   "id": "utility-trading",
   "metadata": {},
   "outputs": [],
   "source": [
    "import sys\n",
    "#!{sys.executable} -m pip install --upgrade stepfunctions"
   ]
  },
  {
   "cell_type": "markdown",
   "id": "innocent-gender",
   "metadata": {},
   "source": [
    "## データの準備、s3 へアップロード"
   ]
  },
  {
   "cell_type": "code",
   "execution_count": null,
   "id": "correct-crazy",
   "metadata": {},
   "outputs": [],
   "source": [
    "import boto3\n",
    "import sagemaker\n",
    "import time\n",
    "import random\n",
    "import uuid\n",
    "import logging\n",
    "import stepfunctions\n",
    "import io\n",
    "import random\n",
    "\n",
    "from sagemaker.amazon.amazon_estimator import get_image_uri\n",
    "from stepfunctions import steps\n",
    "from stepfunctions.steps import TrainingStep, ModelStep, TransformStep\n",
    "from stepfunctions.inputs import ExecutionInput\n",
    "from stepfunctions.workflow import Workflow\n",
    "from stepfunctions.template import TrainingPipeline\n",
    "from stepfunctions.template.utils import replace_parameters_with_jsonpath\n",
    "\n",
    "\n",
    "import sagemaker\n",
    "from sagemaker import get_execution_role\n",
    "from sagemaker.processing import ScriptProcessor, ProcessingInput, ProcessingOutput\n",
    "\n",
    "# Get a SageMaker-compatible role used by this Notebook Instance.\n",
    "role = get_execution_role()\n",
    "workflow_execution_role = \"arn:aws:iam::815969174475:role/StepFunctionsWorkflowExecutionRole-bp\"\n",
    "\n",
    "sagemaker_session = sagemaker.Session()\n",
    "input_train = sagemaker_session.upload_data(path='./data/train.csv', key_prefix='kaggle-ml-pipeline/data')\n",
    "input_test = sagemaker_session.upload_data(path='./data/test.csv', key_prefix='kaggle-ml-pipeline/data')"
   ]
  },
  {
   "cell_type": "code",
   "execution_count": null,
   "id": "tested-transition",
   "metadata": {},
   "outputs": [],
   "source": [
    "stepfunctions.set_stream_logger(level=logging.INFO)\n",
    "\n",
    "region = boto3.Session().region_name\n",
    "bucket = session.default_bucket()\n",
    "prefix = 'sagemaker/DEMO-xgboost-regression'\n",
    "bucket_path = 'https://s3-{}.amazonaws.com/{}'.format(region, bucket)"
   ]
  },
  {
   "cell_type": "markdown",
   "id": "aging-metro",
   "metadata": {},
   "source": [
    "## データ前処理用のコンテナの準備"
   ]
  },
  {
   "cell_type": "code",
   "execution_count": null,
   "id": "italic-abuse",
   "metadata": {},
   "outputs": [],
   "source": [
    "!docker build -t sagemaker-kaggle-titanic-preprocess ./scripts/preprocess\n",
    "\n",
    "import boto3\n",
    "\n",
    "# boto3の機能を使ってリポジトリ名に必要な情報を取得する\n",
    "account_id = boto3.client('sts').get_caller_identity().get('Account')\n",
    "region = boto3.session.Session().region_name\n",
    "tag = ':latest'\n",
    "\n",
    "# SageMakerFullAccess を使っているから repository 名の中に sagemaker が含まれている必要がある\n",
    "ecr_repository = f'sagemaker-kaggle-titanic-preprocess'\n",
    "image_uri = f'{account_id}.dkr.ecr.{region}.amazonaws.com/{ecr_repository+tag}'\n",
    "\n",
    "!$(aws ecr get-login --region $region --registry-ids $account_id --no-include-email)\n",
    " \n",
    "# リポジトリの作成\n",
    "# すでにある場合はこのコマンドは必要ない\n",
    "!aws ecr create-repository --repository-name $ecr_repository\n",
    " \n",
    "!docker build -t {ecr_repository} .\n",
    "!docker tag {ecr_repository + tag} $image_uri\n",
    "!docker push $image_uri\n",
    "\n",
    "print(f'コンテナは {image_uri} へ登録されています。')"
   ]
  },
  {
   "cell_type": "markdown",
   "id": "religious-windsor",
   "metadata": {},
   "source": [
    "## ワークフロー定義"
   ]
  },
  {
   "cell_type": "code",
   "execution_count": null,
   "id": "sunset-blackjack",
   "metadata": {},
   "outputs": [],
   "source": [
    "# SageMaker へは学習ジョブ、モデル、エンドポイントへそれぞれユニークな名前を用います。 \n",
    "execution_input = ExecutionInput(schema={\n",
    "    'JobName': str, \n",
    "    'ModelName': str,\n",
    "    'EndpointName': str,\n",
    "    'PreprocessingJobName': str\n",
    "})"
   ]
  },
  {
   "cell_type": "markdown",
   "id": "historic-photographer",
   "metadata": {},
   "source": [
    "### 学習"
   ]
  },
  {
   "cell_type": "markdown",
   "id": "faced-valuable",
   "metadata": {},
   "source": [
    "### 学習用前処理"
   ]
  },
  {
   "cell_type": "code",
   "execution_count": null,
   "id": "destroyed-gibraltar",
   "metadata": {},
   "outputs": [],
   "source": [
    "job_name = f'sagemaker-kaggle-preprocessing-train'\n",
    "output_s3_path = 's3://' + sagemaker_session.default_bucket() + '/kaggle-ml-pipeline'\n",
    "\n",
    "processing_input_dir = '/opt/ml/processing/input'\n",
    "processing_code_dir = '/opt/ml/processing/input/code'\n",
    "processing_output_dir = '/opt/ml/processing/output'\n",
    "\n",
    "\n",
    "PREPROCESSING_SCRIPT_LOCATION = './scripts/preprocess/preprocess_script/preprocess.py'\n",
    "\n",
    "input_code = sagemaker_session.upload_data(\n",
    "    PREPROCESSING_SCRIPT_LOCATION,\n",
    "    bucket=sagemaker_session.default_bucket(),\n",
    "    key_prefix= 'kaggle-ml-pipeline/preprocess/code',\n",
    ")\n",
    "\n",
    "output_s3_path_preprocess = output_s3_path + '/preprocessed'\n",
    "\n",
    "processor = ScriptProcessor(base_job_name=job_name,\n",
    "                                   image_uri=image_uri,\n",
    "                                   command=['python3'],\n",
    "                                   role=role,\n",
    "                                   instance_count=1,\n",
    "                                   instance_type='ml.c5.xlarge'\n",
    "                                  )\n",
    "\n",
    "train_preprocess_step = steps.ProcessingStep(\n",
    "    'Preprocess for Training Step', \n",
    "    processor=processor,\n",
    "    job_name=execution_input[\"PreprocessingJobName\"],\n",
    "    inputs=[\n",
    "        ProcessingInput(source=input_code, destination=processing_code_dir),\n",
    "        ProcessingInput(source=input_train, destination=processing_input_dir),\n",
    "    ],\n",
    "    outputs=[ProcessingOutput(source=processing_output_dir, destination=output_s3_path_preprocess)],\n",
    "    container_arguments=[\n",
    "                  '--data_type', 'train',\n",
    "                  '--input_dir',processing_input_dir,\n",
    "                  '--output_dir',processing_output_dir\n",
    "                      ],\n",
    "    container_entrypoint=[\"python3\", \"/opt/ml/processing/input/code/preprocessing.py\"]\n",
    ")"
   ]
  },
  {
   "cell_type": "code",
   "execution_count": null,
   "id": "occupational-disclosure",
   "metadata": {},
   "outputs": [],
   "source": [
    "from sagemaker.sklearn.estimator import SKLearn\n",
    "\n",
    "output_s3_path_train = output_s3_path + '/train'\n",
    "\n",
    "sklearn = SKLearn(\n",
    "    entry_point='scripts/train/train.py',\n",
    "    framework_version=\"0.23-1\",\n",
    "    train_instance_type=\"ml.m5.xlarge\",\n",
    "    output_path=output_s3_path_train,\n",
    "    role=role)\n",
    "\n",
    "train_input = output_s3_path_preprocess + '/train.csv'\n",
    "\n",
    "training_step = steps.TrainingStep(\n",
    "    'Train Step', \n",
    "    estimator=sklearn,\n",
    "    data={'train': train_input},\n",
    "    job_name=execution_input['JobName']  \n",
    ")"
   ]
  },
  {
   "cell_type": "markdown",
   "id": "armed-affairs",
   "metadata": {},
   "source": [
    "## 推論"
   ]
  },
  {
   "cell_type": "markdown",
   "id": "empty-ceiling",
   "metadata": {},
   "source": [
    "### モデル作成ステップ"
   ]
  },
  {
   "cell_type": "code",
   "execution_count": null,
   "id": "recreational-madness",
   "metadata": {},
   "outputs": [],
   "source": [
    "model_step = steps.ModelStep(\n",
    "    'Save model',\n",
    "    model=training_step.get_expected_model(),\n",
    "    model_name=execution_input['ModelName']  \n",
    ")"
   ]
  },
  {
   "cell_type": "code",
   "execution_count": null,
   "id": "raised-credits",
   "metadata": {},
   "outputs": [],
   "source": [
    "job_name = f'sagemaker-kaggle-preprocessing-test'\n",
    "\n",
    "processor = ScriptProcessor(base_job_name=job_name,\n",
    "                                   image_uri=image_uri,\n",
    "                                   command=['python3'],\n",
    "                                   role=role,\n",
    "                                   instance_count=1,\n",
    "                                   instance_type='ml.c5.xlarge'\n",
    "                                  )\n",
    "\n",
    "test_preprocess_step = steps.ProcessingStep(\n",
    "    'Preprocess for Test Step', \n",
    "    processor=processor,\n",
    "    job_name=execution_input[\"PreprocessingJobName\"],\n",
    "    inputs=[\n",
    "        ProcessingInput(source=input_code, destination=processing_code_dir),\n",
    "        ProcessingInput(source=input_test, destination=processing_input_dir),\n",
    "    ],\n",
    "    outputs=[ProcessingOutput(source=processing_output_dir, destination=output_s3_path_preprocess)],\n",
    "    container_arguments=[\n",
    "                  '--data_type', 'test',\n",
    "                  '--input_dir',processing_input_dir,\n",
    "                  '--output_dir',processing_output_dir\n",
    "                      ],\n",
    "    container_entrypoint=[\"python3\", \"/opt/ml/processing/input/code/preprocessing.py\"]\n",
    ")"
   ]
  },
  {
   "cell_type": "code",
   "execution_count": null,
   "id": "light-workshop",
   "metadata": {},
   "outputs": [],
   "source": [
    "output_s3_path_inference = output_s3_path + '/batch_inference'\n",
    "transformer = sklearn.transformer(instance_count=1,\n",
    "                                  instance_type='ml.m5.xlarge',\n",
    "                                  output_path=output_s3_path_inference)\n",
    "\n",
    "transform_step = steps.TransformStep(\n",
    "    'Transform Input Dataset',\n",
    "    transformer=sklearn.transformer(\n",
    "        instance_count=1,\n",
    "        instance_type='ml.m5.large'\n",
    "    ),\n",
    "    job_name=execution_input['JobName'],     \n",
    "    model_name=execution_input['ModelName'], \n",
    "    data=output_s3_path_inference,\n",
    "    content_type='text/libsvm'\n",
    ")"
   ]
  },
  {
   "cell_type": "code",
   "execution_count": null,
   "id": "comparative-society",
   "metadata": {},
   "outputs": [],
   "source": [
    "failed_state_sagemaker_processing_failure = stepfunctions.steps.states.Fail(\n",
    "    \"ML Workflow failed\", cause=\"SageMakerProcessingJobFailed\"\n",
    ")"
   ]
  },
  {
   "cell_type": "code",
   "execution_count": null,
   "id": "plastic-titanium",
   "metadata": {},
   "outputs": [],
   "source": [
    "catch_state_processing = stepfunctions.steps.states.Catch(\n",
    "    error_equals=[\"States.TaskFailed\"],\n",
    "    next_step=failed_state_sagemaker_processing_failure,\n",
    ")\n",
    "\n",
    "train_preprocess_step.add_catch(catch_state_processing)\n",
    "training_step.add_catch(catch_state_processing)\n",
    "test_preprocess_step.add_catch(catch_state_processing)\n",
    "transform_step.add_catch(catch_state_processing)"
   ]
  },
  {
   "cell_type": "code",
   "execution_count": null,
   "id": "latin-mitchell",
   "metadata": {},
   "outputs": [],
   "source": [
    "workflow_graph = Chain([train_preprocess_step, training_step, test_preprocess_step, transform_step])\n",
    "\n",
    "workflow = Workflow(\n",
    "    name=\"titanic-ml-pipeline\",\n",
    "    definition=workflow_graph,\n",
    "    role=workflow_execution_role,\n",
    ")\n",
    "\n",
    "\n",
    "workflow.render_graph()"
   ]
  },
  {
   "cell_type": "code",
   "execution_count": null,
   "id": "treated-assembly",
   "metadata": {},
   "outputs": [],
   "source": [
    "template = workflow.get_cloudformation_template()"
   ]
  },
  {
   "cell_type": "markdown",
   "id": "analyzed-reproduction",
   "metadata": {},
   "source": [
    "### Workflow の実行"
   ]
  },
  {
   "cell_type": "code",
   "execution_count": null,
   "id": "preliminary-victim",
   "metadata": {},
   "outputs": [],
   "source": [
    "execution = workflow.execute(\n",
    "    inputs={\n",
    "        \"PreprocessingJobName\": preprocessing_job_name, \n",
    "        \"TrainingJobName\": training_job_name, \n",
    "        \"EvaluationProcessingJobName\": evaluation_job_name, \n",
    "    }\n",
    ")"
   ]
  },
  {
   "cell_type": "code",
   "execution_count": null,
   "id": "dramatic-discount",
   "metadata": {},
   "outputs": [],
   "source": []
  }
 ],
 "metadata": {
  "kernelspec": {
   "display_name": "conda_python3",
   "language": "python",
   "name": "conda_python3"
  },
  "language_info": {
   "codemirror_mode": {
    "name": "ipython",
    "version": 3
   },
   "file_extension": ".py",
   "mimetype": "text/x-python",
   "name": "python",
   "nbconvert_exporter": "python",
   "pygments_lexer": "ipython3",
   "version": "3.6.10"
  }
 },
 "nbformat": 4,
 "nbformat_minor": 5
}
